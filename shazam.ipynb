{
 "cells": [
  {
   "cell_type": "markdown",
   "metadata": {},
   "source": [
    "## Imports"
   ]
  },
  {
   "cell_type": "code",
   "execution_count": null,
   "metadata": {},
   "outputs": [],
   "source": [
    "import sounddevice as sd\n",
    "from scipy.io.wavfile import write\n",
    "import asyncio\n",
    "import nest_asyncio\n",
    "from shazamio import Shazam\n",
    "import json\n",
    "import requests"
   ]
  },
  {
   "cell_type": "markdown",
   "metadata": {},
   "source": [
    "## Record Audio"
   ]
  },
  {
   "cell_type": "markdown",
   "metadata": {},
   "source": [
    "Record a 10 second audio clip and save it to later use shazam to identify the song."
   ]
  },
  {
   "cell_type": "code",
   "execution_count": null,
   "metadata": {},
   "outputs": [],
   "source": [
    "fs = 44100  # Sample rate\n",
    "seconds = 10  # Duration of recording\n",
    "\n",
    "myrecording = sd.rec(int(seconds * fs), samplerate=fs, channels=1)\n",
    "sd.wait()  # Wait until recording is finished\n",
    "write('output.wav', fs, myrecording)  # Save as WAV file "
   ]
  },
  {
   "cell_type": "markdown",
   "metadata": {},
   "source": [
    "## Identify the Song using Shazam"
   ]
  },
  {
   "cell_type": "markdown",
   "metadata": {},
   "source": [
    "Load the audio clip and use the Shazam library to identify the song. Then save the result to a file."
   ]
  },
  {
   "cell_type": "code",
   "execution_count": 8,
   "metadata": {},
   "outputs": [
    {
     "name": "stdout",
     "output_type": "stream",
     "text": [
      "{'matches': [{'id': '657775429', 'offset': 52.053070312, 'timeskew': 7.355213e-05, 'frequencyskew': 0.00076544285}], 'location': {'accuracy': 0.01}, 'timestamp': 1738039424, 'timezone': 'Europe/Moscow', 'track': {'layout': '5', 'type': 'MUSIC', 'key': '657775429', 'title': 'Doppelgänger (feat. Druwu)', 'subtitle': 'Chäckra, Lëri & Seyn', 'images': {'background': 'https://is1-ssl.mzstatic.com/image/thumb/Music126/v4/d0/9f/37/d09f37b7-2058-f08a-4210-020981ab63a0/artwork.jpg/400x400cc.jpg', 'coverart': 'https://is1-ssl.mzstatic.com/image/thumb/Music126/v4/d0/9f/37/d09f37b7-2058-f08a-4210-020981ab63a0/artwork.jpg/400x400cc.jpg', 'coverarthq': 'https://is1-ssl.mzstatic.com/image/thumb/Music126/v4/d0/9f/37/d09f37b7-2058-f08a-4210-020981ab63a0/artwork.jpg/400x400cc.jpg', 'joecolor': 'b:001219p:d5b8c8s:cbabd5t:aa97a5q:a28daf'}, 'share': {'subject': 'Doppelgänger (feat. Druwu) - Chäckra, Lëri & Seyn', 'text': 'Doppelgänger (feat. Druwu) by Chäckra, Lëri & Seyn', 'href': 'https://www.shazam.com/track/657775429/doppelg%C3%A4nger-feat-druwu', 'image': 'https://is1-ssl.mzstatic.com/image/thumb/Music126/v4/d0/9f/37/d09f37b7-2058-f08a-4210-020981ab63a0/artwork.jpg/400x400cc.jpg', 'twitter': 'I used @Shazam to discover Doppelgänger (feat. Druwu) by Chäckra, Lëri & Seyn.', 'html': 'https://www.shazam.com/snippets/email-share/657775429?lang=en-US&country=GB', 'snapchat': 'https://www.shazam.com/partner/sc/track/657775429'}, 'hub': {'type': 'APPLEMUSIC', 'image': 'https://images.shazam.com/static/icons/hub/web/v5/applemusic.png', 'actions': [{'name': 'apple', 'type': 'applemusicplay', 'id': '1679702927'}, {'name': 'apple', 'type': 'uri', 'uri': 'https://audio-ssl.itunes.apple.com/itunes-assets/AudioPreview126/v4/38/ba/d0/38bad07a-b840-abe7-4cf7-ace6f9333050/mzaf_204265168317007028.plus.aac.ep.m4a'}], 'options': [{'caption': 'OPEN IN', 'actions': [{'name': 'hub:applemusic:deeplink', 'type': 'applemusicopen', 'uri': 'https://music.apple.com/gb/album/doppelg%C3%A4nger-feat-druwu/1679702655?i=1679702927&mttnagencyid=s2n&mttnsiteid=125115&mttn3pid=Apple-Shazam&mttnsub1=Shazam_web&mttnsub2=5348615A-616D-3235-3830-44754D6D5973&itscg=30201&app=music&itsct=Shazam_web'}, {'name': 'hub:applemusic:deeplink', 'type': 'uri', 'uri': 'https://music.apple.com/gb/album/doppelg%C3%A4nger-feat-druwu/1679702655?i=1679702927&mttnagencyid=s2n&mttnsiteid=125115&mttn3pid=Apple-Shazam&mttnsub1=Shazam_web&mttnsub2=5348615A-616D-3235-3830-44754D6D5973&itscg=30201&app=music&itsct=Shazam_web'}], 'beacondata': {'type': 'open', 'providername': 'applemusic'}, 'image': 'https://images.shazam.com/static/icons/hub/web/v5/overflow-open-option.png', 'type': 'open', 'listcaption': 'Open in Apple Music', 'overflowimage': 'https://images.shazam.com/static/icons/hub/web/v5/applemusic-overflow.png', 'colouroverflowimage': False, 'providername': 'applemusic'}], 'explicit': True, 'displayname': 'APPLE MUSIC'}, 'sections': [{'type': 'SONG', 'metapages': [{'image': 'https://is1-ssl.mzstatic.com/image/thumb/Music126/v4/d0/9f/37/d09f37b7-2058-f08a-4210-020981ab63a0/artwork.jpg/400x400cc.jpg', 'caption': 'Doppelgänger (feat. Druwu)'}], 'tabname': 'Song', 'metadata': [{'title': 'Album', 'text': 'Rito del Sapo Buffo'}, {'title': 'Label', 'text': 'CHÄCKRA CORPORATION'}, {'title': 'Released', 'text': '2023'}]}], 'url': 'https://www.shazam.com/track/657775429/doppelg%C3%A4nger-feat-druwu', 'artists': [{'alias': 'ch%C3%A4ckra', 'id': '42', 'adamid': '1674671593'}, {'alias': 'l%C3%ABri', 'id': '42', 'adamid': '1535693645'}, {'alias': 'seyn', 'id': '42', 'adamid': '1547801428'}], 'alias': 'doppelg%C3%A4nger-feat-druwu', 'isrc': 'QZES52374201', 'genres': {'primary': 'Urbano latino'}, 'urlparams': {'{tracktitle}': 'Doppelg%C3%A4nger+%28feat.+Druwu%29', '{trackartist}': 'Ch%C3%A4ckra%2C+L%C3%ABri+%26+Seyn'}, 'highlightsurls': {}, 'albumadamid': '1679702655', 'trackadamid': '1679702927', 'releasedate': '03-03-2023'}, 'tagid': '416F4E11-9D8F-4375-A933-88EA6DBA05F2'}\n"
     ]
    }
   ],
   "source": [
    "# Allow running nested event loops in Jupyter notebooks or IPython shells\n",
    "nest_asyncio.apply()\n",
    "\n",
    "async def main():\n",
    "    shazam = Shazam()\n",
    "    out = await shazam.recognize('output.wav')  # rust version, use this!\n",
    "    # save the output as a json file\n",
    "    with open('output.json', 'w') as f:\n",
    "        json.dump(out, f)\n",
    "    print(out)\n",
    "\n",
    "# Create a new event loop\n",
    "loop = asyncio.new_event_loop()\n",
    "# Set the new event loop as the current one\n",
    "asyncio.set_event_loop(loop)\n",
    "# Run the coroutine in the new event loop\n",
    "loop.run_until_complete(main())\n",
    "\n",
    "# Close the event loop\n",
    "loop.close()\n",
    "\n",
    "out = json.load(open('output.json'))"
   ]
  },
  {
   "cell_type": "markdown",
   "metadata": {},
   "source": [
    "## Spotify API for Song Features"
   ]
  },
  {
   "cell_type": "markdown",
   "metadata": {},
   "source": [
    "Once we have the song name and artisrt, we can use the Spotify API to get the song features."
   ]
  },
  {
   "cell_type": "markdown",
   "metadata": {},
   "source": [
    "### Spotify API Access"
   ]
  },
  {
   "cell_type": "code",
   "execution_count": 2,
   "metadata": {},
   "outputs": [],
   "source": [
    "CLIENT_ID = '109b462b7b2849899953426435df8169'\n",
    "CLIENT_SECRET = 'a929ffb635444a22aca384b6dc47fc16'\n",
    "\n",
    "AUTH_URL = 'https://accounts.spotify.com/api/token'\n",
    "\n",
    "# POST\n",
    "auth_response = requests.post(AUTH_URL, {\n",
    "    'grant_type': 'client_credentials',\n",
    "    'client_id': CLIENT_ID,\n",
    "    'client_secret': CLIENT_SECRET,\n",
    "})\n",
    "\n",
    "# convert the response to JSON\n",
    "auth_response_data = auth_response.json()\n",
    "\n",
    "# save the access token\n",
    "access_token = auth_response_data['access_token']\n",
    "\n",
    "headers = {\n",
    "    'Authorization': 'Bearer {token}'.format(token=access_token)\n",
    "}"
   ]
  },
  {
   "cell_type": "markdown",
   "metadata": {},
   "source": [
    "### Fetching the Song Features"
   ]
  },
  {
   "cell_type": "code",
   "execution_count": 22,
   "metadata": {},
   "outputs": [
    {
     "name": "stdout",
     "output_type": "stream",
     "text": [
      "{'danceability': 0.276, 'energy': 0.154, 'key': 8, 'loudness': -18.451, 'mode': 0, 'speechiness': 0.0327, 'acousticness': 0.968, 'instrumentalness': 0.363, 'liveness': 0.109, 'valence': 0.144, 'tempo': 80.763, 'duration_ms': 209815, 'time_signature': 3}\n"
     ]
    }
   ],
   "source": [
    "# get the features of a song based given the song title and artist\n",
    "\n",
    "def find_song(title, artist):\n",
    "    # search for the song\n",
    "    r = requests.get('https://api.spotify.com/v1/search', headers=headers, params={\n",
    "        'q': title,\n",
    "        'type': 'track'\n",
    "    })\n",
    "\n",
    "    # convert the response to JSON\n",
    "    r = r.json()\n",
    "\n",
    "    # get the first song from the results\n",
    "    song = r['tracks']['items'][0]\n",
    "\n",
    "    # return the song\n",
    "    return song\n",
    "\n",
    "def get_features(title, artist):\n",
    "    # get the song\n",
    "    song = find_song(title, artist)\n",
    "\n",
    "    # get the song's features\n",
    "    r = requests.get('https://api.spotify.com/v1/audio-features/' + song['id'], headers=headers)\n",
    "\n",
    "    # convert the response to JSON\n",
    "    r = r.json()\n",
    "\n",
    "    # return the features\n",
    "    return r\n",
    "\n",
    "# get the title and artist of the song\n",
    "title = out['track']['title']\n",
    "artist = out['track']['subtitle']\n",
    "\n",
    "# get the features of the song\n",
    "features = get_features(title, artist)\n",
    "\n",
    "# get only the numerical features\n",
    "numerical_features = {k: features[k] for k in features if type(features[k]) in [int, float]}\n",
    "print(numerical_features)"
   ]
  }
 ],
 "metadata": {
  "kernelspec": {
   "display_name": "torch",
   "language": "python",
   "name": "python3"
  },
  "language_info": {
   "codemirror_mode": {
    "name": "ipython",
    "version": 3
   },
   "file_extension": ".py",
   "mimetype": "text/x-python",
   "name": "python",
   "nbconvert_exporter": "python",
   "pygments_lexer": "ipython3",
   "version": "3.9.16"
  }
 },
 "nbformat": 4,
 "nbformat_minor": 2
}
